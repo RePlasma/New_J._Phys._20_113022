{
 "cells": [
  {
   "cell_type": "markdown",
   "metadata": {},
   "source": [
    "# Cincio 2018\n",
    "\n",
    "Run o IBMQ manila"
   ]
  },
  {
   "cell_type": "code",
   "execution_count": null,
   "metadata": {},
   "outputs": [],
   "source": [
    "nshots = 8000\n",
    "import warnings\n",
    "warnings.simplefilter('ignore')"
   ]
  },
  {
   "cell_type": "code",
   "execution_count": null,
   "metadata": {},
   "outputs": [],
   "source": [
    "# importpackages\n",
    "from qiskit import QuantumRegister, ClassicalRegister, QuantumCircuit\n",
    "from qiskit.quantum_info import Statevector\n",
    "from numpy import pi\n",
    "import numpy as np\n",
    "import matplotlib.pyplot as plt\n",
    "# Run our circuit on the least busy backend. Monitor the execution of the job in the queue\n",
    "from qiskit.tools.monitor import job_monitor\n",
    "\n",
    "# importing Qiskit\n",
    "from qiskit import IBMQ, Aer\n",
    "from qiskit.providers.ibmq import least_busy\n",
    "from qiskit import QuantumCircuit, assemble, transpile\n",
    "\n",
    "# import basic plot tools\n",
    "from qiskit.visualization import plot_histogram\n",
    "\n",
    "# IBMQ\n",
    "from qiskit import IBMQ\n",
    "from qiskit.circuit import Parameter"
   ]
  },
  {
   "cell_type": "code",
   "execution_count": null,
   "metadata": {},
   "outputs": [],
   "source": [
    "# SWAP\n",
    "qr = QuantumRegister(3, 'q')\n",
    "cr = ClassicalRegister(1, 'c')\n",
    "qc_swap = QuantumCircuit(qr,cr)\n",
    "\n",
    "# rho\n",
    "qc_swap.h(1)\n",
    "alpha_swap = Parameter(r'$\\alpha$')\n",
    "qc_swap.rz(alpha_swap,1)\n",
    "# sigma\n",
    "qc_swap.h(2)\n",
    "\n",
    "qc_swap.h(0)\n",
    "qc_swap.cswap(0,1, 2)\n",
    "qc_swap.h(0)\n",
    "qc_swap.measure(0,0)\n",
    "qc_swap.draw(output='mpl')"
   ]
  },
  {
   "cell_type": "code",
   "execution_count": null,
   "metadata": {},
   "outputs": [],
   "source": [
    "# ABA\n",
    "qr = QuantumRegister(3, 'q')\n",
    "cr = ClassicalRegister(1, 'c')\n",
    "qc_aba = QuantumCircuit(qr,cr)\n",
    "\n",
    "# rho\n",
    "qc_aba.h(1)\n",
    "alpha_aba = Parameter(r'$\\alpha$')\n",
    "qc_aba.rz(alpha_aba,1)\n",
    "# sigma\n",
    "qc_aba.h(2)\n",
    "\n",
    "qc_aba.h(0)\n",
    "qc_aba.tdg(0) #T*\n",
    "qc_aba.cx(1,2)\n",
    "qc_aba.cx(2,0)\n",
    "qc_aba.t(0) #T\n",
    "qc_aba.h(0)\n",
    "qc_aba.cx(0,1)\n",
    "qc_aba.h(0)\n",
    "qc_aba.tdg(0) #T*\n",
    "qc_aba.cx(2,0)\n",
    "qc_aba.t(0) #T\n",
    "qc_aba.h(0)\n",
    "\n",
    "qc_aba.measure(0,0)\n",
    "qc_aba.draw(output='mpl')"
   ]
  },
  {
   "cell_type": "code",
   "execution_count": null,
   "metadata": {},
   "outputs": [],
   "source": [
    "# BBA\n",
    "qr = QuantumRegister(2, 'q')\n",
    "cr = ClassicalRegister(2, 'c')\n",
    "qc_bba = QuantumCircuit(qr,cr)\n",
    "\n",
    "# rho\n",
    "qc_bba.h(0)\n",
    "alpha_bba = Parameter(r'$\\alpha$')\n",
    "qc_bba.rz(alpha_bba,0)\n",
    "# sigma\n",
    "qc_bba.h(1)\n",
    "\n",
    "qc_bba.cx(0,1)\n",
    "qc_bba.h(0)\n",
    "qc_bba.measure(0,0)\n",
    "qc_bba.measure(1,1)\n",
    "qc_bba.draw(output='mpl')"
   ]
  },
  {
   "cell_type": "markdown",
   "metadata": {},
   "source": [
    "IBMQ"
   ]
  },
  {
   "cell_type": "code",
   "execution_count": null,
   "metadata": {},
   "outputs": [],
   "source": [
    "# Load saved IBMQ accounts\n",
    "IBMQ.load_account()\n",
    "from qiskit.tools.monitor import job_monitor\n",
    "provider = IBMQ.get_provider(hub='ibm-q')\n",
    "backend = provider.get_backend('ibmq_manila')\n",
    "print(\"backend: \", backend)"
   ]
  },
  {
   "cell_type": "code",
   "execution_count": null,
   "metadata": {},
   "outputs": [],
   "source": [
    "alpha_lst = np.linspace(0,2*np.pi,20)\n",
    "ov_th = np.cos(alpha_lst/2)**2\n",
    "\n",
    "ov_lst_swap = np.zeros(len(alpha_lst))\n",
    "ov_lst_aba = np.zeros(len(alpha_lst))\n",
    "ov_lst_bba = np.zeros(len(alpha_lst))"
   ]
  },
  {
   "cell_type": "code",
   "execution_count": null,
   "metadata": {},
   "outputs": [],
   "source": [
    "qc_list_swap = []\n",
    "for i in range(len(alpha_lst)):\n",
    "    ## swap\n",
    "    # bind parameter\n",
    "    circuit_bind = qc_swap.bind_parameters({alpha_swap: alpha_lst[i]})\n",
    "    # append qc to list\n",
    "    qc_list_swap.append(circuit_bind)\n",
    "# Run with X shots\n",
    "shots_ibm = nshots\n",
    "t_qpe = transpile(qc_list_swap, backend, optimization_level=3)\n",
    "qobj = assemble(t_qpe, shots=shots_ibm)\n",
    "job = backend.run(qobj)\n",
    "job_monitor(job, interval=2)\n",
    "ibm_res_swap=job.result().get_counts()"
   ]
  },
  {
   "cell_type": "code",
   "execution_count": null,
   "metadata": {},
   "outputs": [],
   "source": [
    "qc_list_aba = []\n",
    "for i in range(len(alpha_lst)):\n",
    "    ## swap\n",
    "    # bind parameter\n",
    "    circuit_bind = qc_aba.bind_parameters({alpha_aba: alpha_lst[i]})\n",
    "    # append qc to list\n",
    "    qc_list_aba.append(circuit_bind)\n",
    "# Run with X shots\n",
    "shots_ibm = nshots\n",
    "t_qpe = transpile(qc_list_aba, backend, optimization_level=3)\n",
    "qobj = assemble(t_qpe, shots=shots_ibm)\n",
    "job = backend.run(qobj)\n",
    "job_monitor(job, interval=2)\n",
    "ibm_res_aba=job.result().get_counts()"
   ]
  },
  {
   "cell_type": "code",
   "execution_count": null,
   "metadata": {},
   "outputs": [],
   "source": [
    "qc_list_bba = []\n",
    "for i in range(len(alpha_lst)):\n",
    "    ## swap\n",
    "    # bind parameter\n",
    "    circuit_bind = qc_bba.bind_parameters({alpha_bba: alpha_lst[i]})\n",
    "    # append qc to list\n",
    "    qc_list_bba.append(circuit_bind)\n",
    "# Run with X shots\n",
    "shots_ibm = nshots\n",
    "t_qpe = transpile(qc_list_bba, backend, optimization_level=3)\n",
    "qobj = assemble(t_qpe, shots=shots_ibm)\n",
    "job = backend.run(qobj)\n",
    "job_monitor(job, interval=2)\n",
    "ibm_res_bba=job.result().get_counts()"
   ]
  },
  {
   "cell_type": "code",
   "execution_count": null,
   "metadata": {},
   "outputs": [],
   "source": [
    "# get overlap\n",
    "for i in range(len(alpha_lst)):\n",
    "    # swap\n",
    "    p0 = 0;\n",
    "    if '0' in ibm_res_swap[i]:\n",
    "        p0 = ibm_res_swap[i]['0']/nshots\n",
    "    ov_lst_swap[i] = 2*p0-1\n",
    "    \n",
    "    \n",
    "    ## aba\n",
    "    p0 = 0; p1 = 0;\n",
    "    if '0' in ibm_res_aba[i]:\n",
    "        p0 = ibm_res_aba[i]['0']/nshots\n",
    "    if '1' in ibm_res_aba[i]:\n",
    "        p1 = ibm_res_aba[i]['1']/nshots\n",
    "    ov_lst_aba[i] = p0-p1\n",
    "    \n",
    "    \n",
    "    ## bba\n",
    "    p00 = 0; p01 = 0; p10 = 0; p11 = 0;\n",
    "    if '00' in ibm_res_bba[i]:\n",
    "        p00 = ibm_res_bba[i]['00']/nshots\n",
    "    if '01' in ibm_res_bba[i]:\n",
    "        p01 = ibm_res_bba[i]['01']/nshots\n",
    "    if '10' in ibm_res_bba[i]:\n",
    "        p10 = ibm_res_bba[i]['10']/nshots\n",
    "    if '11' in ibm_res_bba[i]:\n",
    "        p11 = ibm_res_bba[i]['11']/nshots\n",
    "    ov_lst_bba[i] = p00 + p01 + p10 - p11"
   ]
  },
  {
   "cell_type": "code",
   "execution_count": null,
   "metadata": {},
   "outputs": [],
   "source": [
    "# plot reproducing FIG2\n",
    "#plt.style.use(\"style.txt\")\n",
    "fig, axes = plt.subplots(nrows=1, ncols=1, figsize=(8,6))\n",
    "\n",
    "plt.plot(alpha_lst,ov_th,'k--', label='exact')\n",
    "plt.plot(alpha_lst,ov_lst_swap,'g.-', label='SWAP')\n",
    "plt.plot(alpha_lst,ov_lst_aba,'b.-', label='ABA')\n",
    "plt.plot(alpha_lst,ov_lst_bba,'r.-', label='BBA')\n",
    "plt.ylim([0,1])\n",
    "\n",
    "axes.set_xlabel(r'$\\alpha$')\n",
    "axes.set_ylabel(r'$|\\langle \\phi | \\psi \\rangle|^2$',labelpad=15)\n",
    "axes.set_xticks([0,np.pi/2,np.pi,3*np.pi/2,2*np.pi])\n",
    "axes.set_xticklabels([r'0',r'$\\pi/2$',r'$\\pi$',r'$3\\pi/2$',r'$2\\pi$'])\n",
    "axes.set_yticks([0,0.25,0.5,0.75,1])\n",
    "# aspect\n",
    "xmin, xmax = axes.get_xlim()\n",
    "ymin, ymax = axes.get_ylim()\n",
    "axesratio = (ymax-ymin)/(xmax-xmin)\n",
    "axes.set_aspect(aspect=4/3/axesratio)\n",
    "plt.legend(loc='upper center')\n",
    "plt.title(r'$\\mathrm{ibmq \\_manila, shots=8000}$')\n",
    "plt.tight_layout()\n",
    "plt.savefig('cincio2018_ibmq_manila_8000shots.pdf')\n",
    "plt.show()"
   ]
  },
  {
   "cell_type": "code",
   "execution_count": null,
   "metadata": {},
   "outputs": [],
   "source": []
  }
 ],
 "metadata": {
  "kernelspec": {
   "display_name": "Python 3",
   "language": "python",
   "name": "python3"
  },
  "language_info": {
   "codemirror_mode": {
    "name": "ipython",
    "version": 3
   },
   "file_extension": ".py",
   "mimetype": "text/x-python",
   "name": "python",
   "nbconvert_exporter": "python",
   "pygments_lexer": "ipython3",
   "version": "3.7.4"
  }
 },
 "nbformat": 4,
 "nbformat_minor": 4
}
